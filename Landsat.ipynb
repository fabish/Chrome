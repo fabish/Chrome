{
 "cells": [
  {
   "cell_type": "code",
   "execution_count": 1,
   "metadata": {},
   "outputs": [
    {
     "name": "stderr",
     "output_type": "stream",
     "text": [
      "*** Earth Engine *** Share your feedback by taking our Annual Developer Satisfaction Survey: https://google.qualtrics.com/jfe/form/SV_0JLhFqfSY1uiEaW?source=Init\n"
     ]
    },
    {
     "name": "stdout",
     "output_type": "stream",
     "text": [
      "!El paquete de google earth se inicializo correctamente\n"
     ]
    }
   ],
   "source": [
    "import sys \n",
    "import ee\n",
    "import geemap as ui\n",
    "\n",
    "try:\n",
    "    ee.Initialize()\n",
    "    print('!El paquete de google earth se inicializo correctamente')\n",
    "except ee.EEException  as e:\n",
    "    print('!El paquete de google Earth no se pudo inicializar')\n",
    "except:\n",
    "    print(\"Unexpected error: \", sys.exc_info()[0])"
   ]
  },
  {
   "cell_type": "code",
   "execution_count": 2,
   "metadata": {},
   "outputs": [
    {
     "data": {
      "text/html": [
       "\n",
       "            <style>\n",
       "                .geemap-dark {\n",
       "                    --jp-widgets-color: white;\n",
       "                    --jp-widgets-label-color: white;\n",
       "                    --jp-ui-font-color1: white;\n",
       "                    --jp-layout-color2: #454545;\n",
       "                    background-color: #383838;\n",
       "                }\n",
       "\n",
       "                .geemap-dark .jupyter-button {\n",
       "                    --jp-layout-color3: #383838;\n",
       "                }\n",
       "\n",
       "                .geemap-colab {\n",
       "                    background-color: var(--colab-primary-surface-color, white);\n",
       "                }\n",
       "\n",
       "                .geemap-colab .jupyter-button {\n",
       "                    --jp-layout-color3: var(--colab-primary-surface-color, white);\n",
       "                }\n",
       "            </style>\n",
       "            "
      ],
      "text/plain": [
       "<IPython.core.display.HTML object>"
      ]
     },
     "metadata": {},
     "output_type": "display_data"
    },
    {
     "name": "stdout",
     "output_type": "stream",
     "text": [
      "La tarea de exportación ha comenzado...\n"
     ]
    }
   ],
   "source": [
    "# Importar la región de interés desde el asset\n",
    "Mexico = ee.FeatureCollection('projects/ee-zsj2031126019/assets/Mexico')\n",
    "\n",
    "# Definir fechas de consulta\n",
    "fechainicio = '2023-03-20'\n",
    "fechafin = '2023-09-22'\n",
    "\n",
    "# Consultar la colección de imágenes Landsat 8\n",
    "img = ee.ImageCollection('LANDSAT/LC08/C02/T1_L2') \\\n",
    "           .filterBounds(Mexico) \\\n",
    "           .filterDate(fechainicio, fechafin) \\\n",
    "           .filterMetadata('CLOUD_COVER', 'Less_Than', 10)\n",
    "\n",
    "# Crear un mosaico RGB usando bandas Landsat y recortar a México\n",
    "imgMosaico = img.select(['SR_B4', 'SR_B3', 'SR_B2']).mosaic().clip(Mexico.geometry()) \\\n",
    "                .multiply(0.0000275).add(-0.2).multiply(255).toUint8()  # Normalizar a 8 bits\n",
    "\n",
    "# Exportar la imagen como un archivo GeoTIFF con reducción de calidad\n",
    "task = ee.batch.Export.image.toDrive(\n",
    "    image=imgMosaico,\n",
    "    description='Mosaico_Landsat8_Mexico',\n",
    "    folder='Mosaico_Landsat',  # Carpeta en tu Google Drive\n",
    "    fileNamePrefix='mosaico_landsat',  # Prefijo del archivo\n",
    "    region=Mexico.geometry().bounds().getInfo()['coordinates'],  # Región a exportar\n",
    "    scale=60,  # Resolución ajustada a 100 metros/píxel\n",
    "    crs='EPSG:4326',\n",
    "    maxPixels=1e13  # Ajuste de píxeles máximos para evitar errores\n",
    ")\n",
    "\n",
    "# Iniciar la tarea de exportación\n",
    "task.start()\n",
    "\n",
    "print('La tarea de exportación ha comenzado...')\n"
   ]
  }
 ],
 "metadata": {
  "kernelspec": {
   "display_name": "Python 3",
   "language": "python",
   "name": "python3"
  },
  "language_info": {
   "codemirror_mode": {
    "name": "ipython",
    "version": 3
   },
   "file_extension": ".py",
   "mimetype": "text/x-python",
   "name": "python",
   "nbconvert_exporter": "python",
   "pygments_lexer": "ipython3",
   "version": "3.13.1"
  }
 },
 "nbformat": 4,
 "nbformat_minor": 2
}
